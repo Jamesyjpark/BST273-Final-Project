{
 "cells": [
  {
   "cell_type": "markdown",
   "metadata": {},
   "source": [
    "## Homework #1\n",
    "\n",
    "Your name: Yeongjun park\n",
    "\n",
    "### Question 1\n",
    "You will be performing one iteration of the forward pass and backpropagation calculations for a small network using Python. Here we will focus on the calculations for one training example, though in reality your data sets will be much larger and require matrix computation. You will also calculate the associated loss.\n",
    "\n",
    "Let $X_1 = 2$ and $X_2 = -1$ be the feature inputs and initialize the weights to be as shown in the figure below. This is a neural network with a single hidden layer consisting of three nodes. The blue numbers within each node represent the values for the bias terms and the black numbers along the edges represent the weights. The hidden layer outputs a single node, from which your task is binary classification. The label for this particular training example outcome is $y = 1$. "
   ]
  },
  {
   "cell_type": "markdown",
   "metadata": {},
   "source": [
    "<img src=\"simple_nn.png\" width=\"500\">"
   ]
  },
  {
   "cell_type": "markdown",
   "metadata": {},
   "source": [
    "Implement a single forward pass of the network. You do not need to implement the network in keras and should instead use numpy operations (either scalar or matrix). Please use the variable names and print statements provided in the code chunks to display results for the TAs. "
   ]
  },
  {
   "cell_type": "markdown",
   "metadata": {},
   "source": [
    "* Conceptual explanation:\n",
    "\n",
    "The forward pass typically refers to the calculation process - values of the output layers given the input data. It is easier to think of it as a traversal process that neurons go through from the first to the last layer. The bakward pass refers to the process of counting changes in weights using a gradient descent algorithm. Computation starts from the last layer and backward to the first layer. \n",
    "\n",
    "Loss function is one of the performance metrics that examines how well the neural network manages to reach its goal of generating outputs close to the desired values. A loss function returns a single number, and our goal is to minimize the loss. "
   ]
  },
  {
   "cell_type": "code",
   "execution_count": null,
   "metadata": {},
   "outputs": [],
   "source": [
    "# Forward pass using numpy operations\n",
    "\n",
    "import numpy as np\n",
    "\n",
    "Xs = np.array([[2,-1,1]])\n",
    "hidden_w = np.matrix([[1,0.2,-0.6],[1.1,0,-0.3],[-1.8,-0.4,0.96]])\n",
    "Ws = np.matrix([[.5],[.1],[1.3]])\n",
    "Bs = 2\n",
    "hidden = np.matmul(Xs, hidden_w)\n",
    "output = hidden*Ws + Bs\n",
    "y_hat = 1/(1+np.exp(-out))\n",
    "prediction = np.round(y_hat)\n",
    "print('The values for the hidden layer are:', hidden)\n",
    "print('The value for the output layer is:', output)\n",
    "print('The predicted probability is:', y_hat)\n",
    "print('The prediction is:', prediction)"
   ]
  },
  {
   "cell_type": "markdown",
   "metadata": {},
   "source": [
    "Calculate the loss for the training example making sure to select the appropriate loss function."
   ]
  },
  {
   "cell_type": "code",
   "execution_count": 3,
   "metadata": {},
   "outputs": [
    {
     "name": "stdout",
     "output_type": "stream",
     "text": [
      "The loss is: [[0.1792517]]\n"
     ]
    }
   ],
   "source": [
    "# Loss\n",
    "\n",
    "y_i = 1\n",
    "loss_i = (-y_i)*np.log(y_hat)-(1-y_i)*np.log(1-y_hat)\n",
    "print('The loss is:',loss_i)"
   ]
  },
  {
   "cell_type": "markdown",
   "metadata": {},
   "source": [
    "Implement a single backward pass of the network. Again use numpy and report the values using the print statements provided. Please interpret these values. In other words, what are the values you just calculated used for? "
   ]
  },
  {
   "cell_type": "code",
   "execution_count": 3,
   "metadata": {},
   "outputs": [
    {
     "name": "stdout",
     "output_type": "stream",
     "text": [
      "The gradients of the loss wrt to the hidden weights are: [[ 0.14769407  0.         -0.00984627]]\n",
      "The gradient of the loss wrt to the hidden bias is: [[-0.16410453]]\n",
      "The gradients of the loss wrt to the input weights going to hidden node 1 are: [[-0.08205226 -0.16410453  0.08205226]]\n",
      "The gradients of the loss wrt to the input weights going to hidden node 2 are: [[-0.01641045 -0.03282091  0.01641045]]\n",
      "The gradients of the loss wrt to the input weights going to hidden node 3 are: [[-0.21333588 -0.42667177  0.21333588]]\n"
     ]
    }
   ],
   "source": [
    "#  Backward pass of the network using numpy operations\n",
    "\n",
    "dl_dy = (y_hat-y_i)/(y_hat-y_hat**2)\n",
    "dy_dout = y_hat*(1-y_hat)\n",
    "dout_dw_h = hidden\n",
    "dout_db_h = 1\n",
    "x_hid = np.array([[1,2,-1]])\n",
    "dout_dh = np.transpose(w_out)\n",
    "\n",
    "dl_dw_h = dl_dy*dy_dout*dout_dw_h\n",
    "dl_db_h = dl_dy*dy_dout*dout_db_h\n",
    "dl_dw_1 = dl_dy*dy_dout*dout_dh[0,0]*x_hid\n",
    "dl_dw_2 = dl_dy*dy_dout*dout_dh[0,1]*x_hid\n",
    "dl_dw_3 = dl_dy*dy_dout*dout_dh[0,2]*x_hid\n",
    "print('The gradients of the loss wrt to the hidden weights are:', dl_dw_h)\n",
    "print('The gradient of the loss wrt to the hidden bias is:', dl_db_h)\n",
    "print('The gradients of the loss wrt to the input weights going to hidden node 1 are:', dl_dw_1)\n",
    "print('The gradients of the loss wrt to the input weights going to hidden node 2 are:', dl_dw_2)\n",
    "print('The gradients of the loss wrt to the input weights going to hidden node 3 are:', dl_dw_3)"
   ]
  },
  {
   "cell_type": "markdown",
   "metadata": {},
   "source": [
    "### Question 2\n",
    "In class we were considering classification problems where the goal was to predict a single discrete label of an input data point. Another common type of machine learning problem is \"regression\", which consists of predicting a continuous value instead of a discrete label. For instance, predicting the temperature tomorrow, given meteorological data, or predicting the time that a software project will take to complete, given its specifications.\n",
    "\n",
    "You will be attempting to predict the median price of homes in a given Boston suburb in the mid-1970s, given a few data points about the suburb at the time, such as the crime rate, the local property tax rate, etc.\n",
    "\n",
    "The dataset you will be using has another interesting difference from our previous examples: it has very few data points, only 506 in total, split between 404 training samples and 102 test samples, and each \"feature\" in the input data (e.g. the crime rate is a feature) has a different scale. For instance some values are proportions, which take a values between 0 and 1, others take values between 1 and 12, others between 0 and 100.\n",
    "\n",
    "The data consists 13 features. The 13 features in the input data are as follows:\n",
    "\n",
    "1. Per capita crime rate.\n",
    "2. Proportion of residential land zoned for lots over 25,000 square feet.\n",
    "3. Proportion of non-retail business acres per town.\n",
    "4. Charles River dummy variable (= 1 if tract bounds river; 0 otherwise).\n",
    "5. Nitric oxides concentration (parts per 10 million).\n",
    "6. Average number of rooms per dwelling.\n",
    "7. Proportion of owner-occupied units built prior to 1940.\n",
    "8. Weighted distances to five Boston employment centres.\n",
    "9. Index of accessibility to radial highways.\n",
    "10. Full-value property-tax rate per $10,000.\n",
    "11. Pupil-teacher ratio by town.\n",
    "12. 1000(Bk - 0.63)^2 where Bk is the proportion of Black people by town.\n",
    "13. % lower SES status of the population.\n",
    "\n",
    "The targets (outcomes, y) are the median values of owner-occupied homes, in thousands of dollars. The prices are typically between 10,000 and 50,000 dollars. If that sounds cheap, remember this was the mid-1970s, and these prices are not inflation-adjusted."
   ]
  },
  {
   "cell_type": "code",
   "execution_count": 34,
   "metadata": {},
   "outputs": [],
   "source": [
    "# Import necessary modules\n",
    "# Tensorflow must be installed via Linux before installing Keras\n",
    "import keras\n",
    "from keras import models\n",
    "from keras import layers\n",
    "import numpy as np\n",
    "import matplotlib.pyplot as plt"
   ]
  },
  {
   "cell_type": "code",
   "execution_count": 5,
   "metadata": {},
   "outputs": [],
   "source": [
    "# Load the data\n",
    "from keras.datasets import boston_housing\n",
    "\n",
    "(train_data, train_targets), (test_data, test_targets) =  boston_housing.load_data()"
   ]
  },
  {
   "cell_type": "markdown",
   "metadata": {},
   "source": [
    "Print the dimensions of the training set, i.e. its shape"
   ]
  },
  {
   "cell_type": "code",
   "execution_count": 71,
   "metadata": {},
   "outputs": [
    {
     "name": "stdout",
     "output_type": "stream",
     "text": [
      "The dimensions of the training set are: (404, 13)\n"
     ]
    }
   ],
   "source": [
    "# Training shape\n",
    "print('The dimensions of the training set are:', train_data.shape)"
   ]
  },
  {
   "cell_type": "markdown",
   "metadata": {},
   "source": [
    "Print the dimensions of the test set, i.e. its shape"
   ]
  },
  {
   "cell_type": "code",
   "execution_count": 72,
   "metadata": {},
   "outputs": [
    {
     "name": "stdout",
     "output_type": "stream",
     "text": [
      "The dimensions of the test set are: (102, 13)\n"
     ]
    }
   ],
   "source": [
    "# test shape\n",
    "print('The dimensions of the test set are:', test_data.shape)"
   ]
  },
  {
   "cell_type": "markdown",
   "metadata": {},
   "source": [
    "It would be problematic to feed into a neural network values that all take wildly different ranges. The network might be able to automatically adapt to such heterogeneous data, but it would definitely make learning more difficult. A widespread best practice to deal with such data is to do feature-wise normalization: for each feature in the input data (a column in the input data matrix), we will subtract the mean of the feature and divide by the standard deviation, so that the feature will be centered around 0 and will have a unit standard deviation.\n",
    "\n",
    "Normalize the data. Be sure to normalize the test set with the training set mean and standard deviation.\n",
    "\n",
    "* Conceptual explanation:\n",
    "\n",
    "In many machine learning algorithms, objective functions may not work propery without normalization because the range of values of raw data varies widely. Data is normalized feather-wise for the given dataset since the aim is to investigate the relationship across data and having the ability to predict well with the new data. "
   ]
  },
  {
   "cell_type": "code",
   "execution_count": 8,
   "metadata": {},
   "outputs": [],
   "source": [
    "# Normalize the data\n",
    "train_data = train_data.astype('float32')\n",
    "test_data = test_data.astype('float32')\n",
    "\n",
    "mean = train_data.mean(axis=0)\n",
    "std = train_data.std(axis=0)\n",
    "\n",
    "train_data -= mean\n",
    "train_data /= std\n",
    "\n",
    "test_data -= mean\n",
    "test_data /= std"
   ]
  },
  {
   "cell_type": "markdown",
   "metadata": {},
   "source": [
    "Fit a fully connected neural network with 2 hidden layers and an output layer. Include 64 hidden units in each hidden layer and an appropriate number of units in the output layer. You are free to choose the activation functions. Use the `rmsprop` optimization function, and choose an appropriate loss function and model performance measure. Referring to the table shown in lectures 2 and 3 may help with these choices. Run the network for 50 epochs and use a batch_size of 10."
   ]
  },
  {
   "cell_type": "code",
   "execution_count": 43,
   "metadata": {},
   "outputs": [
    {
     "name": "stdout",
     "output_type": "stream",
     "text": [
      "Epoch 1/50\n",
      "404/404 [==============================] - 1s 1ms/step - loss: 448.2255 - mean_absolute_error: 18.9406\n",
      "Epoch 2/50\n",
      "404/404 [==============================] - 0s 104us/step - loss: 179.4268 - mean_absolute_error: 10.8643\n",
      "Epoch 3/50\n",
      "404/404 [==============================] - 0s 92us/step - loss: 58.3466 - mean_absolute_error: 5.6460\n",
      "Epoch 4/50\n",
      "404/404 [==============================] - 0s 87us/step - loss: 33.4349 - mean_absolute_error: 4.0641\n",
      "Epoch 5/50\n",
      "404/404 [==============================] - 0s 85us/step - loss: 23.5308 - mean_absolute_error: 3.3540\n",
      "Epoch 6/50\n",
      "404/404 [==============================] - 0s 84us/step - loss: 19.1907 - mean_absolute_error: 2.9280\n",
      "Epoch 7/50\n",
      "404/404 [==============================] - 0s 80us/step - loss: 16.8196 - mean_absolute_error: 2.8341\n",
      "Epoch 8/50\n",
      "404/404 [==============================] - 0s 79us/step - loss: 15.2639 - mean_absolute_error: 2.6749\n",
      "Epoch 9/50\n",
      "404/404 [==============================] - 0s 79us/step - loss: 13.6945 - mean_absolute_error: 2.5449\n",
      "Epoch 10/50\n",
      "404/404 [==============================] - 0s 78us/step - loss: 12.8112 - mean_absolute_error: 2.5260\n",
      "Epoch 11/50\n",
      "404/404 [==============================] - 0s 80us/step - loss: 11.9618 - mean_absolute_error: 2.4040\n",
      "Epoch 12/50\n",
      "404/404 [==============================] - 0s 79us/step - loss: 11.6883 - mean_absolute_error: 2.4002\n",
      "Epoch 13/50\n",
      "404/404 [==============================] - 0s 77us/step - loss: 11.0406 - mean_absolute_error: 2.3206\n",
      "Epoch 14/50\n",
      "404/404 [==============================] - 0s 78us/step - loss: 10.8674 - mean_absolute_error: 2.2970\n",
      "Epoch 15/50\n",
      "404/404 [==============================] - 0s 79us/step - loss: 10.4240 - mean_absolute_error: 2.2728\n",
      "Epoch 16/50\n",
      "404/404 [==============================] - 0s 89us/step - loss: 10.1772 - mean_absolute_error: 2.2295\n",
      "Epoch 17/50\n",
      "404/404 [==============================] - 0s 96us/step - loss: 10.0048 - mean_absolute_error: 2.2174\n",
      "Epoch 18/50\n",
      "404/404 [==============================] - 0s 88us/step - loss: 9.5931 - mean_absolute_error: 2.1504\n",
      "Epoch 19/50\n",
      "404/404 [==============================] - 0s 80us/step - loss: 9.7306 - mean_absolute_error: 2.2022\n",
      "Epoch 20/50\n",
      "404/404 [==============================] - 0s 94us/step - loss: 9.4103 - mean_absolute_error: 2.1420\n",
      "Epoch 21/50\n",
      "404/404 [==============================] - 0s 90us/step - loss: 9.3837 - mean_absolute_error: 2.1548\n",
      "Epoch 22/50\n",
      "404/404 [==============================] - 0s 80us/step - loss: 8.7554 - mean_absolute_error: 2.1072\n",
      "Epoch 23/50\n",
      "404/404 [==============================] - 0s 77us/step - loss: 9.0359 - mean_absolute_error: 2.1844\n",
      "Epoch 24/50\n",
      "404/404 [==============================] - 0s 81us/step - loss: 8.9178 - mean_absolute_error: 2.0881\n",
      "Epoch 25/50\n",
      "404/404 [==============================] - 0s 79us/step - loss: 8.5385 - mean_absolute_error: 2.0534\n",
      "Epoch 26/50\n",
      "404/404 [==============================] - 0s 78us/step - loss: 8.8667 - mean_absolute_error: 2.0872\n",
      "Epoch 27/50\n",
      "404/404 [==============================] - 0s 83us/step - loss: 8.6765 - mean_absolute_error: 2.0757\n",
      "Epoch 28/50\n",
      "404/404 [==============================] - 0s 93us/step - loss: 8.3984 - mean_absolute_error: 2.0234\n",
      "Epoch 29/50\n",
      "404/404 [==============================] - 0s 90us/step - loss: 8.2907 - mean_absolute_error: 2.0280\n",
      "Epoch 30/50\n",
      "404/404 [==============================] - 0s 92us/step - loss: 8.4255 - mean_absolute_error: 2.0613\n",
      "Epoch 31/50\n",
      "404/404 [==============================] - 0s 97us/step - loss: 8.0261 - mean_absolute_error: 2.0291\n",
      "Epoch 32/50\n",
      "404/404 [==============================] - 0s 85us/step - loss: 8.1661 - mean_absolute_error: 1.9846\n",
      "Epoch 33/50\n",
      "404/404 [==============================] - 0s 91us/step - loss: 8.0992 - mean_absolute_error: 2.0160\n",
      "Epoch 34/50\n",
      "404/404 [==============================] - 0s 81us/step - loss: 7.7680 - mean_absolute_error: 1.9752\n",
      "Epoch 35/50\n",
      "404/404 [==============================] - 0s 82us/step - loss: 8.0079 - mean_absolute_error: 1.9811\n",
      "Epoch 36/50\n",
      "404/404 [==============================] - 0s 92us/step - loss: 7.7695 - mean_absolute_error: 1.9495\n",
      "Epoch 37/50\n",
      "404/404 [==============================] - 0s 88us/step - loss: 7.4337 - mean_absolute_error: 1.9550\n",
      "Epoch 38/50\n",
      "404/404 [==============================] - 0s 82us/step - loss: 7.7404 - mean_absolute_error: 1.9540\n",
      "Epoch 39/50\n",
      "404/404 [==============================] - 0s 79us/step - loss: 7.5542 - mean_absolute_error: 1.9319\n",
      "Epoch 40/50\n",
      "404/404 [==============================] - 0s 80us/step - loss: 7.6323 - mean_absolute_error: 1.9624\n",
      "Epoch 41/50\n",
      "404/404 [==============================] - 0s 83us/step - loss: 7.3919 - mean_absolute_error: 1.8892\n",
      "Epoch 42/50\n",
      "404/404 [==============================] - 0s 78us/step - loss: 7.3675 - mean_absolute_error: 1.9163\n",
      "Epoch 43/50\n",
      "404/404 [==============================] - 0s 78us/step - loss: 7.2570 - mean_absolute_error: 1.8761\n",
      "Epoch 44/50\n",
      "404/404 [==============================] - 0s 77us/step - loss: 7.5516 - mean_absolute_error: 1.9157\n",
      "Epoch 45/50\n",
      "404/404 [==============================] - 0s 85us/step - loss: 7.2515 - mean_absolute_error: 1.8855\n",
      "Epoch 46/50\n",
      "404/404 [==============================] - 0s 80us/step - loss: 7.0960 - mean_absolute_error: 1.8592\n",
      "Epoch 47/50\n",
      "404/404 [==============================] - 0s 79us/step - loss: 7.0736 - mean_absolute_error: 1.8419\n",
      "Epoch 48/50\n",
      "404/404 [==============================] - 0s 87us/step - loss: 7.0888 - mean_absolute_error: 1.8565\n",
      "Epoch 49/50\n",
      "404/404 [==============================] - 0s 83us/step - loss: 7.0359 - mean_absolute_error: 1.8619\n",
      "Epoch 50/50\n",
      "404/404 [==============================] - 0s 80us/step - loss: 6.9154 - mean_absolute_error: 1.8766\n"
     ]
    }
   ],
   "source": [
    "# Build the neural network with 2 hidden layers - 64 hidden units in each layer\n",
    "\n",
    "network64 = models.Sequential()\n",
    "network64.add(layers.Dense(64, activation = 'relu', input_shape = (train_data.shape[1],)))\n",
    "network64.add(layers.Dense(64, activation = 'relu'))\n",
    "network64.add(layers.Dense(1))\n",
    "network64.compile(loss='mean_squared_error',\n",
    "                optimizer='rmsprop',\n",
    "                metrics=['mae'])\n",
    "\n",
    "history = network64.fit(train_data, train_targets, batch_size = 10, epochs=50)"
   ]
  },
  {
   "cell_type": "markdown",
   "metadata": {},
   "source": [
    "Report the test set accuracy and compare it to the training set accuracy. **Interpret what this means in words, in terms of what you are trying to do with your network**."
   ]
  },
  {
   "cell_type": "code",
   "execution_count": 44,
   "metadata": {},
   "outputs": [
    {
     "name": "stdout",
     "output_type": "stream",
     "text": [
      "102/102 [==============================] - 0s 2ms/step\n",
      "test accuracy: 2.701396072612089\n",
      "404/404 [==============================] - 0s 19us/step\n",
      "train accuracy: 1.7768920553792822\n"
     ]
    }
   ],
   "source": [
    "# Test Loss versus Training Loss\n",
    "test_loss, test_acc = network64.evaluate(test_data, test_targets)\n",
    "print('test accuracy:', test_acc)\n",
    "train_loss, train_acc = network64.evaluate(train_data, train_targets)\n",
    "print('train accuracy:', train_acc)"
   ]
  },
  {
   "cell_type": "markdown",
   "metadata": {},
   "source": [
    "* Conceptual explanation:\n",
    "\n",
    "`rmsprop` lies in the realm of adaptive learning rate methods. It derives the learning rate by an exponential decaying average of squared gradients. `Mean absolute error (MAE)` is used as the performance metric. MAE measures the average magnitude of the errors from a set of predictions. It is the average over the test sample of the absolute differences between prediction and actual observation where all individual differences have equal weight. Given this, a smaller MAE indicates a better performance. `mean squared error (MSE)` is used to compute the loss where a smaller MSE is preferred. Initially, a `sigmoid` activation function is considered and implemented; however, a `relu` activation performs much better than a `sigmoid` activation in terms of MSE (smaller loss) and MAE (smaller error). Therefore, my network is implemented using a `relu` activation function. \n",
    "\n",
    "* Accuracy comparison: \n",
    "\n",
    "The training accuracy is approximately 1.78 where the test accuracy is approximately 2.70. It makes sense why the training phase performs better because a training phase of machine learning implementation works with data from the gold standard by pairing the input with expected output. Testing phase estimates how well the model does from a different set of data than the data used from the training phase. However, the two accuracy metrics do not differ much, and our model performs well in both training and testing datasets. \n"
   ]
  },
  {
   "cell_type": "markdown",
   "metadata": {},
   "source": [
    "Now fit the same network as above but with 16 hidden nodes in each hidden layer. **What is the test set accuracy and how does it compare to the first network you created? Which model do you think is better?**"
   ]
  },
  {
   "cell_type": "code",
   "execution_count": 42,
   "metadata": {},
   "outputs": [
    {
     "name": "stdout",
     "output_type": "stream",
     "text": [
      "Epoch 1/50\n",
      "404/404 [==============================] - 0s 1ms/step - loss: 581.5797 - mean_absolute_error: 22.3596\n",
      "Epoch 2/50\n",
      "404/404 [==============================] - 0s 114us/step - loss: 533.5237 - mean_absolute_error: 21.4300\n",
      "Epoch 3/50\n",
      "404/404 [==============================] - 0s 94us/step - loss: 478.3840 - mean_absolute_error: 20.2942\n",
      "Epoch 4/50\n",
      "404/404 [==============================] - 0s 89us/step - loss: 409.4852 - mean_absolute_error: 18.7947\n",
      "Epoch 5/50\n",
      "404/404 [==============================] - 0s 99us/step - loss: 329.2289 - mean_absolute_error: 16.7740\n",
      "Epoch 6/50\n",
      "404/404 [==============================] - 0s 94us/step - loss: 242.9070 - mean_absolute_error: 14.1310\n",
      "Epoch 7/50\n",
      "404/404 [==============================] - 0s 92us/step - loss: 167.7737 - mean_absolute_error: 11.0639\n",
      "Epoch 8/50\n",
      "404/404 [==============================] - 0s 83us/step - loss: 114.7355 - mean_absolute_error: 8.6380\n",
      "Epoch 9/50\n",
      "404/404 [==============================] - 0s 77us/step - loss: 80.6101 - mean_absolute_error: 6.7585\n",
      "Epoch 10/50\n",
      "404/404 [==============================] - 0s 77us/step - loss: 57.7893 - mean_absolute_error: 5.4870\n",
      "Epoch 11/50\n",
      "404/404 [==============================] - ETA: 0s - loss: 21.4218 - mean_absolute_error: 4.06 - 0s 87us/step - loss: 42.6740 - mean_absolute_error: 4.5084\n",
      "Epoch 12/50\n",
      "404/404 [==============================] - 0s 97us/step - loss: 34.7227 - mean_absolute_error: 3.9561\n",
      "Epoch 13/50\n",
      "404/404 [==============================] - 0s 84us/step - loss: 31.1548 - mean_absolute_error: 3.7761\n",
      "Epoch 14/50\n",
      "404/404 [==============================] - 0s 84us/step - loss: 28.8137 - mean_absolute_error: 3.6459\n",
      "Epoch 15/50\n",
      "404/404 [==============================] - 0s 90us/step - loss: 26.9401 - mean_absolute_error: 3.5312\n",
      "Epoch 16/50\n",
      "404/404 [==============================] - 0s 78us/step - loss: 25.3752 - mean_absolute_error: 3.4453\n",
      "Epoch 17/50\n",
      "404/404 [==============================] - 0s 79us/step - loss: 23.9957 - mean_absolute_error: 3.3738\n",
      "Epoch 18/50\n",
      "404/404 [==============================] - 0s 77us/step - loss: 22.8420 - mean_absolute_error: 3.2794\n",
      "Epoch 19/50\n",
      "404/404 [==============================] - 0s 78us/step - loss: 21.5938 - mean_absolute_error: 3.2248\n",
      "Epoch 20/50\n",
      "404/404 [==============================] - 0s 85us/step - loss: 20.4968 - mean_absolute_error: 3.1701\n",
      "Epoch 21/50\n",
      "404/404 [==============================] - 0s 100us/step - loss: 19.5076 - mean_absolute_error: 3.0907\n",
      "Epoch 22/50\n",
      "404/404 [==============================] - 0s 93us/step - loss: 18.6034 - mean_absolute_error: 3.0172\n",
      "Epoch 23/50\n",
      "404/404 [==============================] - 0s 86us/step - loss: 17.7603 - mean_absolute_error: 2.9522\n",
      "Epoch 24/50\n",
      "404/404 [==============================] - 0s 88us/step - loss: 17.0415 - mean_absolute_error: 2.8949\n",
      "Epoch 25/50\n",
      "404/404 [==============================] - 0s 85us/step - loss: 16.3061 - mean_absolute_error: 2.8560\n",
      "Epoch 26/50\n",
      "404/404 [==============================] - 0s 82us/step - loss: 15.7591 - mean_absolute_error: 2.8013\n",
      "Epoch 27/50\n",
      "404/404 [==============================] - 0s 87us/step - loss: 15.1911 - mean_absolute_error: 2.7599\n",
      "Epoch 28/50\n",
      "404/404 [==============================] - 0s 82us/step - loss: 14.7613 - mean_absolute_error: 2.7511\n",
      "Epoch 29/50\n",
      "404/404 [==============================] - 0s 78us/step - loss: 14.2570 - mean_absolute_error: 2.6937\n",
      "Epoch 30/50\n",
      "404/404 [==============================] - 0s 80us/step - loss: 13.7974 - mean_absolute_error: 2.6546\n",
      "Epoch 31/50\n",
      "404/404 [==============================] - 0s 94us/step - loss: 13.4051 - mean_absolute_error: 2.6172\n",
      "Epoch 32/50\n",
      "404/404 [==============================] - 0s 89us/step - loss: 13.0619 - mean_absolute_error: 2.5957\n",
      "Epoch 33/50\n",
      "404/404 [==============================] - 0s 89us/step - loss: 12.7630 - mean_absolute_error: 2.5629\n",
      "Epoch 34/50\n",
      "404/404 [==============================] - 0s 87us/step - loss: 12.4265 - mean_absolute_error: 2.5099\n",
      "Epoch 35/50\n",
      "404/404 [==============================] - 0s 90us/step - loss: 12.1437 - mean_absolute_error: 2.5037\n",
      "Epoch 36/50\n",
      "404/404 [==============================] - 0s 90us/step - loss: 11.9909 - mean_absolute_error: 2.5029\n",
      "Epoch 37/50\n",
      "404/404 [==============================] - 0s 81us/step - loss: 11.6981 - mean_absolute_error: 2.4684\n",
      "Epoch 38/50\n",
      "404/404 [==============================] - 0s 76us/step - loss: 11.5222 - mean_absolute_error: 2.4511\n",
      "Epoch 39/50\n",
      "404/404 [==============================] - 0s 77us/step - loss: 11.3091 - mean_absolute_error: 2.4118\n",
      "Epoch 40/50\n",
      "404/404 [==============================] - 0s 89us/step - loss: 11.1608 - mean_absolute_error: 2.3940\n",
      "Epoch 41/50\n",
      "404/404 [==============================] - 0s 97us/step - loss: 10.9646 - mean_absolute_error: 2.3710\n",
      "Epoch 42/50\n",
      "404/404 [==============================] - 0s 85us/step - loss: 10.8379 - mean_absolute_error: 2.3760\n",
      "Epoch 43/50\n",
      "404/404 [==============================] - 0s 89us/step - loss: 10.6613 - mean_absolute_error: 2.3528\n",
      "Epoch 44/50\n",
      "404/404 [==============================] - 0s 91us/step - loss: 10.5791 - mean_absolute_error: 2.3422\n",
      "Epoch 45/50\n",
      "404/404 [==============================] - 0s 78us/step - loss: 10.4008 - mean_absolute_error: 2.3155\n",
      "Epoch 46/50\n",
      "404/404 [==============================] - 0s 75us/step - loss: 10.3926 - mean_absolute_error: 2.3162\n",
      "Epoch 47/50\n",
      "404/404 [==============================] - 0s 74us/step - loss: 10.2255 - mean_absolute_error: 2.3076\n",
      "Epoch 48/50\n",
      "404/404 [==============================] - 0s 73us/step - loss: 10.2199 - mean_absolute_error: 2.2954\n",
      "Epoch 49/50\n",
      "404/404 [==============================] - 0s 74us/step - loss: 10.0339 - mean_absolute_error: 2.3001\n",
      "Epoch 50/50\n",
      "404/404 [==============================] - 0s 77us/step - loss: 9.9143 - mean_absolute_error: 2.2757\n",
      "102/102 [==============================] - 0s 2ms/step\n",
      "404/404 [==============================] - 0s 15us/step\n",
      "test accuracy: 3.108356475830078\n",
      "train accuracy: 2.2368764948136737\n"
     ]
    }
   ],
   "source": [
    "# Model with 16 hidden nodes in each hidden layer\n",
    "\n",
    "network16 = models.Sequential()\n",
    "network16.add(layers.Dense(16, activation = 'relu', input_shape = (train_data.shape[1],)))\n",
    "network16.add(layers.Dense(16, activation = 'relu'))\n",
    "network16.add(layers.Dense(1))\n",
    "network16.compile(loss='mean_squared_error',\n",
    "                optimizer='rmsprop',\n",
    "                metrics=['mae'])\n",
    "\n",
    "history1 = network16.fit(train_data, train_targets, batch_size = 10, epochs=50)\n",
    "\n",
    "test_loss1, test_acc1 = network16.evaluate(test_data, test_targets)\n",
    "train_loss1, train_acc1 = network16.evaluate(train_data, train_targets)\n",
    "print('test accuracy:', test_acc1)\n",
    "print('train accuracy:', train_acc1)"
   ]
  },
  {
   "cell_type": "code",
   "execution_count": 70,
   "metadata": {},
   "outputs": [
    {
     "data": {
      "text/plain": [
       "<matplotlib.legend.Legend at 0xb29aa13c8>"
      ]
     },
     "execution_count": 70,
     "metadata": {},
     "output_type": "execute_result"
    },
    {
     "data": {
      "image/png": "[encoded data removed]",
      "text/plain": [
       "<Figure size 432x288 with 1 Axes>"
      ]
     },
     "metadata": {
      "needs_background": "light"
     },
     "output_type": "display_data"
    }
   ],
   "source": [
    "train_loss = history.history['loss']\n",
    "train_loss1 = history1.history['loss']\n",
    "\n",
    "epochs = list(range(1, len(train_loss) + 1))\n",
    "plt.plot(epochs, train_loss, 'b', label = 'Larget network (64) Loss', color = 'red')\n",
    "plt.plot(epochs, train_loss1, 'b', label = \"Smaller network (16) Loss\")\n",
    "plt.title('Loss comparison two different networks')\n",
    "plt.xlabel('Epochs')\n",
    "plt.ylabel(\"Loss\")\n",
    "plt.legend()"
   ]
  },
  {
   "cell_type": "markdown",
   "metadata": {},
   "source": [
    "* Model comparison: \n",
    "\n",
    "When there are 16 nodes in each hidden layer, both the training and testing datasets perform worse compared to the previous example where 64 nodes are implemented for each hidden layer. The training accuracy is approximately 2.24 where the testing accuracy is approximately 3.11. Same as the previous example, the training dataset performs better than the testing dataset. Therefore, a previous implementation with the 64 hidden units in each layer better predicts Boston median housing prices duing the 1970's. \n",
    "\n",
    "There are diffferent expectations and standards when it comes to implementing an ideal number of neurons in each hidden layer. There are some empirically-derived rules-of-thumb, of these, the most commonly relied on is 'the optimal size of the hidden layer is usually between the size of the input and size of the output layer' according to the author of `Introduction to Neural Networks in Java`, Jeff Heaton. Given the size of the input and the output layer, it is thus unsurprising that the network using larger size of the hidden layers performs  better. We can also see from the plot above that the larger network (64 hidden units in each layer) has smaller loss through different epochs. \n"
   ]
  }
 ],
 "metadata": {
  "kernelspec": {
   "display_name": "Python 3",
   "language": "python",
   "name": "python3"
  },
  "language_info": {
   "codemirror_mode": {
    "name": "ipython",
    "version": 3
   },
   "file_extension": ".py",
   "mimetype": "text/x-python",
   "name": "python",
   "nbconvert_exporter": "python",
   "pygments_lexer": "ipython3",
   "version": "3.7.1"
  }
 },
 "nbformat": 4,
 "nbformat_minor": 2
}
